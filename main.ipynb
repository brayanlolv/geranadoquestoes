{
  "cells": [
    {
      "cell_type": "markdown",
      "metadata": {
        "id": "view-in-github",
        "colab_type": "text"
      },
      "source": [
        "<a href=\"https://colab.research.google.com/github/brayanlolv/geranadoquestoes/blob/main/trabalho.ipynb\" target=\"_parent\"><img src=\"https://colab.research.google.com/assets/colab-badge.svg\" alt=\"Open In Colab\"/></a>"
      ]
    },
    {
      "cell_type": "markdown",
      "metadata": {
        "id": "SfzBFWM56_HR"
      },
      "source": []
    },
    {
      "cell_type": "markdown",
      "metadata": {
        "id": "g9nM0Vit3NiX"
      },
      "source": [
        "##instalando variaveis"
      ]
    },
    {
      "cell_type": "code",
      "execution_count": null,
      "metadata": {
        "id": "PjBVnxwa3Azp"
      },
      "outputs": [],
      "source": [
        "!pip install lmqg"
      ]
    },
    {
      "cell_type": "markdown",
      "metadata": {
        "id": "yTdm4iJgTq1u"
      },
      "source": []
    },
    {
      "cell_type": "markdown",
      "metadata": {
        "id": "8R03jVSU2d74"
      },
      "source": [
        "# *##SETANDO O LMQG E SUAS FUNCOES\\*\n",
        "\n",
        "\n",
        "\n"
      ]
    },
    {
      "cell_type": "code",
      "execution_count": null,
      "metadata": {
        "id": "NXfMh9oo1FFq"
      },
      "outputs": [],
      "source": [
        "from lmqg import TransformersQG\n",
        "model = TransformersQG(language = \"en\")\n"
      ]
    },
    {
      "cell_type": "code",
      "execution_count": null,
      "metadata": {
        "id": "oTkdlr-7zF_g"
      },
      "outputs": [],
      "source": [
        "import numpy as np\n",
        "import math\n",
        "\n",
        "\n",
        "def createquestion(context,language = \"en\"):\n",
        "  ## tratar o tamanho do context max 512\n",
        "\n",
        "  #dividir o context\n",
        "  print(\"create question chamada\")\n",
        "  contextsplit = math.floor((len(context) / 512) +1)\n",
        "  print(contextsplit)\n",
        "  slicesize = math.floor(len(context) / contextsplit)\n",
        "  print(slicesize)\n",
        "\n",
        "  result = []\n",
        "\n",
        "\n",
        "  for i in range(contextsplit+1):\n",
        "\n",
        "    if(i>3):\n",
        "      break ##quebrado\n",
        "\n",
        "    print(\"for\")\n",
        "    a = slicesize * i\n",
        "    b = slicesize * (i + 1)\n",
        "    print(i)\n",
        "    print(a)\n",
        "    print(b)\n",
        "\n",
        "    try:\n",
        "      question = model.generate_qa(context[a:b])\n",
        "      result.extend(question)\n",
        "    except:\n",
        "      continue\n",
        "\n",
        "    print(\"criando questoes\")\n",
        "\n",
        "  return result# tentando slice\n",
        "\n",
        "\n"
      ]
    },
    {
      "cell_type": "markdown",
      "metadata": {
        "id": "ldhEyEO31Etj"
      },
      "source": [
        "##TB get text\n"
      ]
    },
    {
      "cell_type": "code",
      "execution_count": null,
      "metadata": {
        "id": "dh6UcRMO0jgK"
      },
      "outputs": [],
      "source": [
        "!pip install youtube-transcript-api"
      ]
    },
    {
      "cell_type": "code",
      "execution_count": null,
      "metadata": {
        "colab": {
          "base_uri": "https://localhost:8080/"
        },
        "id": "6G_RSwXN0-lp",
        "outputId": "a9e36fc7-0bdc-4fcd-bbd0-f675496319fe"
      },
      "outputs": [
        {
          "output_type": "stream",
          "name": "stdout",
          "text": [
            "\n"
          ]
        }
      ],
      "source": [
        "from youtube_transcript_api import YouTubeTranscriptApi\n",
        "from urllib.parse import urlparse\n",
        "\n",
        "\n",
        "#adiconar lingua\n",
        "def get_videoscriptbyurl(video_url,language = \"en\"):\n",
        "  video_id = urlparse(video_url)\n",
        "  video_id = video_id.query.replace(\"v=\",\"\")\n",
        "\n",
        "  transcript_array =  []\n",
        "  transcript = YouTubeTranscriptApi.get_transcript(video_id, languages=[language])\n",
        "\n",
        "  for x in transcript:\n",
        "    # print(x[\"text\"])\n",
        "    transcript_array.append(x[\"text\"])\n",
        "\n",
        "  return transcript_array\n",
        "\n",
        "print(\n",
        "\n",
        ")\n",
        "\n"
      ]
    },
    {
      "cell_type": "markdown",
      "metadata": {
        "id": "gXwN7GaX2nTu"
      },
      "source": [
        "##iniciando o flask\n"
      ]
    },
    {
      "cell_type": "code",
      "execution_count": null,
      "metadata": {
        "id": "Oq6g7He2DDLK"
      },
      "outputs": [],
      "source": [
        "from google.colab import drive\n",
        "drive.mount('/content/gdrive')"
      ]
    },
    {
      "cell_type": "code",
      "source": [
        "!zip -r /content/gdrive/MyDrive/templates.zip  . -i /content/gdrive/Mydrive/templates/\n",
        "# !zip -r /content/olala.zip . /content/gdrive/Mydrive/templates"
      ],
      "metadata": {
        "id": "yniB6vJJhtSb"
      },
      "execution_count": null,
      "outputs": []
    },
    {
      "cell_type": "markdown",
      "metadata": {
        "id": "IGLbrSP2oy5w"
      },
      "source": []
    },
    {
      "cell_type": "code",
      "execution_count": null,
      "metadata": {
        "id": "gJ6iZRRvq3j1"
      },
      "outputs": [],
      "source": [
        "from flask import Flask, redirect, jsonify,  render_template,request\n",
        "serve = Flask(\"ola\", template_folder=\"/content/gdrive/MyDrive/templates\")\n",
        "\n",
        "from flask import make_response\n",
        "\n",
        "\n",
        "\n",
        "@serve.route(\"/\")\n",
        "def home():\n",
        "  # return \"ola\"\n",
        "  alert = \"\"\n",
        "  return render_template('index.html',alert=alert)\n",
        "\n",
        "\n",
        "\n",
        "#endpoint para gerar as questoes a partir de um video\n",
        "@serve.route(\"/yb_post\", methods = [\"POST\"])\n",
        "def youtube():\n",
        "  data = {}\n",
        "  data[\"video_url\"] = request.form.get('video_url')\n",
        "\n",
        "\n",
        "\n",
        "  data[\"text-context\"] = get_videoscriptbyurl(data[\"video_url\"])\n",
        "  data[\"questions\"] = createquestion(\" \".join(data[\"text-context\"]))\n",
        "\n",
        "  #so para fazer o front\n",
        "  #data[\"questions\"] = [('In what year did Hitler leave a disturbingmark on the automobile industry?', '1937 he left a very disturbingmark on the automobile industry')]\n",
        "  return render_template(\"ybpost.html\",data=data)\n",
        "\n",
        "#endpoit para gerar as questoes a partir de um text\n",
        "@serve.route(\"/text_post\", methods = [\"POST\"])\n",
        "def questionText():\n",
        "  print(\"text post\")\n",
        "  data = {}\n",
        "  data[\"text-context\"] = request.form.get('text_context')\n",
        "  data[\"questions\"] = createquestion(\"\".join(data[\"text-context\"]))\n",
        "\n",
        "  return render_template('textpost.html',data=data)\n",
        "\n",
        "\n",
        "from google.colab import output\n",
        "output.serve_kernel_port_as_window(5000)\n",
        "\n",
        "\n",
        "serve.run()"
      ]
    }
  ],
  "metadata": {
    "colab": {
      "collapsed_sections": [
        "ldhEyEO31Etj"
      ],
      "provenance": [],
      "toc_visible": true,
      "include_colab_link": true
    },
    "kernelspec": {
      "display_name": "Python 3",
      "name": "python3"
    },
    "language_info": {
      "name": "python"
    }
  },
  "nbformat": 4,
  "nbformat_minor": 0
}